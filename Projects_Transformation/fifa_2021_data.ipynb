{
 "cells": [
  {
   "cell_type": "code",
   "execution_count": 1,
   "id": "c9aad4d1-d207-4d8c-ba54-dc829a34c203",
   "metadata": {},
   "outputs": [],
   "source": [
    "import pandas as pd\n",
    "import numpy as np\n",
    "import matplotlib.pyplot as plt\n",
    "import seaborn as sns"
   ]
  },
  {
   "cell_type": "code",
   "execution_count": 2,
   "id": "215d3b24-f094-49c7-80ee-2db05a4a7711",
   "metadata": {},
   "outputs": [
    {
     "name": "stderr",
     "output_type": "stream",
     "text": [
      "C:\\Users\\Rahul\\AppData\\Local\\Temp\\ipykernel_548\\3075458354.py:1: DtypeWarning: Columns (76) have mixed types. Specify dtype option on import or set low_memory=False.\n",
      "  df=pd.read_csv(\"D:/OneDrive/Desktop/jupyter/Feature-Enginerring/datasets/fifa21_raw_data.csv\")\n"
     ]
    },
    {
     "data": {
      "text/html": [
       "<div>\n",
       "<style scoped>\n",
       "    .dataframe tbody tr th:only-of-type {\n",
       "        vertical-align: middle;\n",
       "    }\n",
       "\n",
       "    .dataframe tbody tr th {\n",
       "        vertical-align: top;\n",
       "    }\n",
       "\n",
       "    .dataframe thead th {\n",
       "        text-align: right;\n",
       "    }\n",
       "</style>\n",
       "<table border=\"1\" class=\"dataframe\">\n",
       "  <thead>\n",
       "    <tr style=\"text-align: right;\">\n",
       "      <th></th>\n",
       "      <th>photoUrl</th>\n",
       "      <th>LongName</th>\n",
       "      <th>playerUrl</th>\n",
       "      <th>Nationality</th>\n",
       "      <th>Positions</th>\n",
       "      <th>Name</th>\n",
       "      <th>Age</th>\n",
       "      <th>↓OVA</th>\n",
       "      <th>POT</th>\n",
       "      <th>Team &amp; Contract</th>\n",
       "      <th>...</th>\n",
       "      <th>A/W</th>\n",
       "      <th>D/W</th>\n",
       "      <th>IR</th>\n",
       "      <th>PAC</th>\n",
       "      <th>SHO</th>\n",
       "      <th>PAS</th>\n",
       "      <th>DRI</th>\n",
       "      <th>DEF</th>\n",
       "      <th>PHY</th>\n",
       "      <th>Hits</th>\n",
       "    </tr>\n",
       "  </thead>\n",
       "  <tbody>\n",
       "    <tr>\n",
       "      <th>0</th>\n",
       "      <td>https://cdn.sofifa.com/players/158/023/21_60.png</td>\n",
       "      <td>Lionel Messi</td>\n",
       "      <td>http://sofifa.com/player/158023/lionel-messi/2...</td>\n",
       "      <td>Argentina</td>\n",
       "      <td>RW ST CF</td>\n",
       "      <td>L. Messi</td>\n",
       "      <td>33</td>\n",
       "      <td>93</td>\n",
       "      <td>93</td>\n",
       "      <td>\\n\\n\\n\\nFC Barcelona\\n2004 ~ 2021\\n\\n</td>\n",
       "      <td>...</td>\n",
       "      <td>Medium</td>\n",
       "      <td>Low</td>\n",
       "      <td>5 ★</td>\n",
       "      <td>85</td>\n",
       "      <td>92</td>\n",
       "      <td>91</td>\n",
       "      <td>95</td>\n",
       "      <td>38</td>\n",
       "      <td>65</td>\n",
       "      <td>\\n372</td>\n",
       "    </tr>\n",
       "    <tr>\n",
       "      <th>1</th>\n",
       "      <td>https://cdn.sofifa.com/players/020/801/21_60.png</td>\n",
       "      <td>C. Ronaldo dos Santos Aveiro</td>\n",
       "      <td>http://sofifa.com/player/20801/c-ronaldo-dos-s...</td>\n",
       "      <td>Portugal</td>\n",
       "      <td>ST LW</td>\n",
       "      <td>Cristiano Ronaldo</td>\n",
       "      <td>35</td>\n",
       "      <td>92</td>\n",
       "      <td>92</td>\n",
       "      <td>\\n\\n\\n\\nJuventus\\n2018 ~ 2022\\n\\n</td>\n",
       "      <td>...</td>\n",
       "      <td>High</td>\n",
       "      <td>Low</td>\n",
       "      <td>5 ★</td>\n",
       "      <td>89</td>\n",
       "      <td>93</td>\n",
       "      <td>81</td>\n",
       "      <td>89</td>\n",
       "      <td>35</td>\n",
       "      <td>77</td>\n",
       "      <td>\\n344</td>\n",
       "    </tr>\n",
       "    <tr>\n",
       "      <th>2</th>\n",
       "      <td>https://cdn.sofifa.com/players/200/389/21_60.png</td>\n",
       "      <td>Jan Oblak</td>\n",
       "      <td>http://sofifa.com/player/200389/jan-oblak/210005/</td>\n",
       "      <td>Slovenia</td>\n",
       "      <td>GK</td>\n",
       "      <td>J. Oblak</td>\n",
       "      <td>27</td>\n",
       "      <td>91</td>\n",
       "      <td>93</td>\n",
       "      <td>\\n\\n\\n\\nAtlético Madrid\\n2014 ~ 2023\\n\\n</td>\n",
       "      <td>...</td>\n",
       "      <td>Medium</td>\n",
       "      <td>Medium</td>\n",
       "      <td>3 ★</td>\n",
       "      <td>87</td>\n",
       "      <td>92</td>\n",
       "      <td>78</td>\n",
       "      <td>90</td>\n",
       "      <td>52</td>\n",
       "      <td>90</td>\n",
       "      <td>\\n86</td>\n",
       "    </tr>\n",
       "    <tr>\n",
       "      <th>3</th>\n",
       "      <td>https://cdn.sofifa.com/players/192/985/21_60.png</td>\n",
       "      <td>Kevin De Bruyne</td>\n",
       "      <td>http://sofifa.com/player/192985/kevin-de-bruyn...</td>\n",
       "      <td>Belgium</td>\n",
       "      <td>CAM CM</td>\n",
       "      <td>K. De Bruyne</td>\n",
       "      <td>29</td>\n",
       "      <td>91</td>\n",
       "      <td>91</td>\n",
       "      <td>\\n\\n\\n\\nManchester City\\n2015 ~ 2023\\n\\n</td>\n",
       "      <td>...</td>\n",
       "      <td>High</td>\n",
       "      <td>High</td>\n",
       "      <td>4 ★</td>\n",
       "      <td>76</td>\n",
       "      <td>86</td>\n",
       "      <td>93</td>\n",
       "      <td>88</td>\n",
       "      <td>64</td>\n",
       "      <td>78</td>\n",
       "      <td>\\n163</td>\n",
       "    </tr>\n",
       "    <tr>\n",
       "      <th>4</th>\n",
       "      <td>https://cdn.sofifa.com/players/190/871/21_60.png</td>\n",
       "      <td>Neymar da Silva Santos Jr.</td>\n",
       "      <td>http://sofifa.com/player/190871/neymar-da-silv...</td>\n",
       "      <td>Brazil</td>\n",
       "      <td>LW CAM</td>\n",
       "      <td>Neymar Jr</td>\n",
       "      <td>28</td>\n",
       "      <td>91</td>\n",
       "      <td>91</td>\n",
       "      <td>\\n\\n\\n\\nParis Saint-Germain\\n2017 ~ 2022\\n\\n</td>\n",
       "      <td>...</td>\n",
       "      <td>High</td>\n",
       "      <td>Medium</td>\n",
       "      <td>5 ★</td>\n",
       "      <td>91</td>\n",
       "      <td>85</td>\n",
       "      <td>86</td>\n",
       "      <td>94</td>\n",
       "      <td>36</td>\n",
       "      <td>59</td>\n",
       "      <td>\\n273</td>\n",
       "    </tr>\n",
       "  </tbody>\n",
       "</table>\n",
       "<p>5 rows × 77 columns</p>\n",
       "</div>"
      ],
      "text/plain": [
       "                                           photoUrl  \\\n",
       "0  https://cdn.sofifa.com/players/158/023/21_60.png   \n",
       "1  https://cdn.sofifa.com/players/020/801/21_60.png   \n",
       "2  https://cdn.sofifa.com/players/200/389/21_60.png   \n",
       "3  https://cdn.sofifa.com/players/192/985/21_60.png   \n",
       "4  https://cdn.sofifa.com/players/190/871/21_60.png   \n",
       "\n",
       "                       LongName  \\\n",
       "0                  Lionel Messi   \n",
       "1  C. Ronaldo dos Santos Aveiro   \n",
       "2                     Jan Oblak   \n",
       "3               Kevin De Bruyne   \n",
       "4    Neymar da Silva Santos Jr.   \n",
       "\n",
       "                                           playerUrl Nationality Positions  \\\n",
       "0  http://sofifa.com/player/158023/lionel-messi/2...   Argentina  RW ST CF   \n",
       "1  http://sofifa.com/player/20801/c-ronaldo-dos-s...    Portugal     ST LW   \n",
       "2  http://sofifa.com/player/200389/jan-oblak/210005/    Slovenia        GK   \n",
       "3  http://sofifa.com/player/192985/kevin-de-bruyn...     Belgium    CAM CM   \n",
       "4  http://sofifa.com/player/190871/neymar-da-silv...      Brazil    LW CAM   \n",
       "\n",
       "                Name  Age  ↓OVA  POT  \\\n",
       "0           L. Messi   33    93   93   \n",
       "1  Cristiano Ronaldo   35    92   92   \n",
       "2           J. Oblak   27    91   93   \n",
       "3       K. De Bruyne   29    91   91   \n",
       "4          Neymar Jr   28    91   91   \n",
       "\n",
       "                                Team & Contract  ...     A/W     D/W   IR PAC  \\\n",
       "0         \\n\\n\\n\\nFC Barcelona\\n2004 ~ 2021\\n\\n  ...  Medium     Low  5 ★  85   \n",
       "1             \\n\\n\\n\\nJuventus\\n2018 ~ 2022\\n\\n  ...    High     Low  5 ★  89   \n",
       "2      \\n\\n\\n\\nAtlético Madrid\\n2014 ~ 2023\\n\\n  ...  Medium  Medium  3 ★  87   \n",
       "3      \\n\\n\\n\\nManchester City\\n2015 ~ 2023\\n\\n  ...    High    High  4 ★  76   \n",
       "4  \\n\\n\\n\\nParis Saint-Germain\\n2017 ~ 2022\\n\\n  ...    High  Medium  5 ★  91   \n",
       "\n",
       "   SHO PAS  DRI DEF PHY   Hits  \n",
       "0   92  91   95  38  65  \\n372  \n",
       "1   93  81   89  35  77  \\n344  \n",
       "2   92  78   90  52  90   \\n86  \n",
       "3   86  93   88  64  78  \\n163  \n",
       "4   85  86   94  36  59  \\n273  \n",
       "\n",
       "[5 rows x 77 columns]"
      ]
     },
     "execution_count": 2,
     "metadata": {},
     "output_type": "execute_result"
    }
   ],
   "source": [
    "df=pd.read_csv(\"D:/OneDrive/Desktop/jupyter/Feature-Enginerring/datasets/fifa21_raw_data.csv\")\n",
    "df.head()"
   ]
  },
  {
   "cell_type": "code",
   "execution_count": 3,
   "id": "3a20f9f3-b7db-49b5-886c-ec4de04335b2",
   "metadata": {
    "scrolled": true
   },
   "outputs": [
    {
     "name": "stdout",
     "output_type": "stream",
     "text": [
      "<class 'pandas.core.frame.DataFrame'>\n",
      "RangeIndex: 18979 entries, 0 to 18978\n",
      "Data columns (total 77 columns):\n",
      " #   Column            Non-Null Count  Dtype \n",
      "---  ------            --------------  ----- \n",
      " 0   photoUrl          18979 non-null  object\n",
      " 1   LongName          18979 non-null  object\n",
      " 2   playerUrl         18979 non-null  object\n",
      " 3   Nationality       18979 non-null  object\n",
      " 4   Positions         18979 non-null  object\n",
      " 5   Name              18979 non-null  object\n",
      " 6   Age               18979 non-null  int64 \n",
      " 7   ↓OVA              18979 non-null  int64 \n",
      " 8   POT               18979 non-null  int64 \n",
      " 9   Team & Contract   18979 non-null  object\n",
      " 10  ID                18979 non-null  int64 \n",
      " 11  Height            18979 non-null  object\n",
      " 12  Weight            18979 non-null  object\n",
      " 13  foot              18979 non-null  object\n",
      " 14  BOV               18979 non-null  int64 \n",
      " 15  BP                18979 non-null  object\n",
      " 16  Growth            18979 non-null  int64 \n",
      " 17  Joined            18979 non-null  object\n",
      " 18  Loan Date End     1013 non-null   object\n",
      " 19  Value             18979 non-null  object\n",
      " 20  Wage              18979 non-null  object\n",
      " 21  Release Clause    18979 non-null  object\n",
      " 22  Attacking         18979 non-null  int64 \n",
      " 23  Crossing          18979 non-null  int64 \n",
      " 24  Finishing         18979 non-null  int64 \n",
      " 25  Heading Accuracy  18979 non-null  int64 \n",
      " 26  Short Passing     18979 non-null  int64 \n",
      " 27  Volleys           18979 non-null  int64 \n",
      " 28  Skill             18979 non-null  int64 \n",
      " 29  Dribbling         18979 non-null  int64 \n",
      " 30  Curve             18979 non-null  int64 \n",
      " 31  FK Accuracy       18979 non-null  int64 \n",
      " 32  Long Passing      18979 non-null  int64 \n",
      " 33  Ball Control      18979 non-null  int64 \n",
      " 34  Movement          18979 non-null  int64 \n",
      " 35  Acceleration      18979 non-null  int64 \n",
      " 36  Sprint Speed      18979 non-null  int64 \n",
      " 37  Agility           18979 non-null  int64 \n",
      " 38  Reactions         18979 non-null  int64 \n",
      " 39  Balance           18979 non-null  int64 \n",
      " 40  Power             18979 non-null  int64 \n",
      " 41  Shot Power        18979 non-null  int64 \n",
      " 42  Jumping           18979 non-null  int64 \n",
      " 43  Stamina           18979 non-null  int64 \n",
      " 44  Strength          18979 non-null  int64 \n",
      " 45  Long Shots        18979 non-null  int64 \n",
      " 46  Mentality         18979 non-null  int64 \n",
      " 47  Aggression        18979 non-null  int64 \n",
      " 48  Interceptions     18979 non-null  int64 \n",
      " 49  Positioning       18979 non-null  int64 \n",
      " 50  Vision            18979 non-null  int64 \n",
      " 51  Penalties         18979 non-null  int64 \n",
      " 52  Composure         18979 non-null  int64 \n",
      " 53  Defending         18979 non-null  int64 \n",
      " 54  Marking           18979 non-null  int64 \n",
      " 55  Standing Tackle   18979 non-null  int64 \n",
      " 56  Sliding Tackle    18979 non-null  int64 \n",
      " 57  Goalkeeping       18979 non-null  int64 \n",
      " 58  GK Diving         18979 non-null  int64 \n",
      " 59  GK Handling       18979 non-null  int64 \n",
      " 60  GK Kicking        18979 non-null  int64 \n",
      " 61  GK Positioning    18979 non-null  int64 \n",
      " 62  GK Reflexes       18979 non-null  int64 \n",
      " 63  Total Stats       18979 non-null  int64 \n",
      " 64  Base Stats        18979 non-null  int64 \n",
      " 65  W/F               18979 non-null  object\n",
      " 66  SM                18979 non-null  object\n",
      " 67  A/W               18979 non-null  object\n",
      " 68  D/W               18979 non-null  object\n",
      " 69  IR                18979 non-null  object\n",
      " 70  PAC               18979 non-null  int64 \n",
      " 71  SHO               18979 non-null  int64 \n",
      " 72  PAS               18979 non-null  int64 \n",
      " 73  DRI               18979 non-null  int64 \n",
      " 74  DEF               18979 non-null  int64 \n",
      " 75  PHY               18979 non-null  int64 \n",
      " 76  Hits              18979 non-null  object\n",
      "dtypes: int64(55), object(22)\n",
      "memory usage: 11.1+ MB\n"
     ]
    }
   ],
   "source": [
    "df.info()"
   ]
  },
  {
   "cell_type": "code",
   "execution_count": 4,
   "id": "a08b5310-a8b6-4b2e-9d2b-0d7b9d704fd4",
   "metadata": {},
   "outputs": [],
   "source": [
    "df=df[['Nationality','Positions','Name','Age','ID','Height','Weight','foot','Total Stats','Base Stats','Wage','Hits']]"
   ]
  },
  {
   "cell_type": "code",
   "execution_count": 5,
   "id": "8fffde85-21da-462f-a07c-ca537d0f9e39",
   "metadata": {},
   "outputs": [
    {
     "data": {
      "text/html": [
       "<div>\n",
       "<style scoped>\n",
       "    .dataframe tbody tr th:only-of-type {\n",
       "        vertical-align: middle;\n",
       "    }\n",
       "\n",
       "    .dataframe tbody tr th {\n",
       "        vertical-align: top;\n",
       "    }\n",
       "\n",
       "    .dataframe thead th {\n",
       "        text-align: right;\n",
       "    }\n",
       "</style>\n",
       "<table border=\"1\" class=\"dataframe\">\n",
       "  <thead>\n",
       "    <tr style=\"text-align: right;\">\n",
       "      <th></th>\n",
       "      <th>Nationality</th>\n",
       "      <th>Positions</th>\n",
       "      <th>Name</th>\n",
       "      <th>Age</th>\n",
       "      <th>ID</th>\n",
       "      <th>Height</th>\n",
       "      <th>Weight</th>\n",
       "      <th>foot</th>\n",
       "      <th>Total Stats</th>\n",
       "      <th>Base Stats</th>\n",
       "      <th>Wage</th>\n",
       "      <th>Hits</th>\n",
       "    </tr>\n",
       "  </thead>\n",
       "  <tbody>\n",
       "    <tr>\n",
       "      <th>0</th>\n",
       "      <td>Argentina</td>\n",
       "      <td>RW ST CF</td>\n",
       "      <td>L. Messi</td>\n",
       "      <td>33</td>\n",
       "      <td>158023</td>\n",
       "      <td>5'7\"</td>\n",
       "      <td>159lbs</td>\n",
       "      <td>Left</td>\n",
       "      <td>2231</td>\n",
       "      <td>466</td>\n",
       "      <td>€560K</td>\n",
       "      <td>\\n372</td>\n",
       "    </tr>\n",
       "    <tr>\n",
       "      <th>1</th>\n",
       "      <td>Portugal</td>\n",
       "      <td>ST LW</td>\n",
       "      <td>Cristiano Ronaldo</td>\n",
       "      <td>35</td>\n",
       "      <td>20801</td>\n",
       "      <td>6'2\"</td>\n",
       "      <td>183lbs</td>\n",
       "      <td>Right</td>\n",
       "      <td>2221</td>\n",
       "      <td>464</td>\n",
       "      <td>€220K</td>\n",
       "      <td>\\n344</td>\n",
       "    </tr>\n",
       "    <tr>\n",
       "      <th>2</th>\n",
       "      <td>Slovenia</td>\n",
       "      <td>GK</td>\n",
       "      <td>J. Oblak</td>\n",
       "      <td>27</td>\n",
       "      <td>200389</td>\n",
       "      <td>6'2\"</td>\n",
       "      <td>192lbs</td>\n",
       "      <td>Right</td>\n",
       "      <td>1413</td>\n",
       "      <td>489</td>\n",
       "      <td>€125K</td>\n",
       "      <td>\\n86</td>\n",
       "    </tr>\n",
       "    <tr>\n",
       "      <th>3</th>\n",
       "      <td>Belgium</td>\n",
       "      <td>CAM CM</td>\n",
       "      <td>K. De Bruyne</td>\n",
       "      <td>29</td>\n",
       "      <td>192985</td>\n",
       "      <td>5'11\"</td>\n",
       "      <td>154lbs</td>\n",
       "      <td>Right</td>\n",
       "      <td>2304</td>\n",
       "      <td>485</td>\n",
       "      <td>€370K</td>\n",
       "      <td>\\n163</td>\n",
       "    </tr>\n",
       "    <tr>\n",
       "      <th>4</th>\n",
       "      <td>Brazil</td>\n",
       "      <td>LW CAM</td>\n",
       "      <td>Neymar Jr</td>\n",
       "      <td>28</td>\n",
       "      <td>190871</td>\n",
       "      <td>5'9\"</td>\n",
       "      <td>150lbs</td>\n",
       "      <td>Right</td>\n",
       "      <td>2175</td>\n",
       "      <td>451</td>\n",
       "      <td>€270K</td>\n",
       "      <td>\\n273</td>\n",
       "    </tr>\n",
       "  </tbody>\n",
       "</table>\n",
       "</div>"
      ],
      "text/plain": [
       "  Nationality Positions               Name  Age      ID Height  Weight   foot  \\\n",
       "0   Argentina  RW ST CF           L. Messi   33  158023   5'7\"  159lbs   Left   \n",
       "1    Portugal     ST LW  Cristiano Ronaldo   35   20801   6'2\"  183lbs  Right   \n",
       "2    Slovenia        GK           J. Oblak   27  200389   6'2\"  192lbs  Right   \n",
       "3     Belgium    CAM CM       K. De Bruyne   29  192985  5'11\"  154lbs  Right   \n",
       "4      Brazil    LW CAM          Neymar Jr   28  190871   5'9\"  150lbs  Right   \n",
       "\n",
       "   Total Stats  Base Stats   Wage   Hits  \n",
       "0         2231         466  €560K  \\n372  \n",
       "1         2221         464  €220K  \\n344  \n",
       "2         1413         489  €125K   \\n86  \n",
       "3         2304         485  €370K  \\n163  \n",
       "4         2175         451  €270K  \\n273  "
      ]
     },
     "execution_count": 5,
     "metadata": {},
     "output_type": "execute_result"
    }
   ],
   "source": [
    "df.head()"
   ]
  },
  {
   "cell_type": "code",
   "execution_count": 6,
   "id": "ab60bd58-5964-41d2-8908-19c211f195b7",
   "metadata": {},
   "outputs": [
    {
     "data": {
      "text/plain": [
       "Nationality    0\n",
       "Positions      0\n",
       "Name           0\n",
       "Age            0\n",
       "ID             0\n",
       "Height         0\n",
       "Weight         0\n",
       "foot           0\n",
       "Total Stats    0\n",
       "Base Stats     0\n",
       "Wage           0\n",
       "Hits           0\n",
       "dtype: int64"
      ]
     },
     "execution_count": 6,
     "metadata": {},
     "output_type": "execute_result"
    }
   ],
   "source": [
    "df.isna().sum()"
   ]
  },
  {
   "cell_type": "markdown",
   "id": "836800fd-89ca-4e13-ad3a-a5a737dcd2d0",
   "metadata": {},
   "source": [
    "->> All Data Is Alredy Cleaned.Just Checking Whether it is real data "
   ]
  },
  {
   "cell_type": "code",
   "execution_count": 7,
   "id": "608f9596-ad9d-4cd6-80c1-49fe4323a62d",
   "metadata": {},
   "outputs": [
    {
     "name": "stdout",
     "output_type": "stream",
     "text": [
      "<class 'pandas.core.frame.DataFrame'>\n",
      "RangeIndex: 18979 entries, 0 to 18978\n",
      "Data columns (total 12 columns):\n",
      " #   Column       Non-Null Count  Dtype \n",
      "---  ------       --------------  ----- \n",
      " 0   Nationality  18979 non-null  object\n",
      " 1   Positions    18979 non-null  object\n",
      " 2   Name         18979 non-null  object\n",
      " 3   Age          18979 non-null  int64 \n",
      " 4   ID           18979 non-null  int64 \n",
      " 5   Height       18979 non-null  object\n",
      " 6   Weight       18979 non-null  object\n",
      " 7   foot         18979 non-null  object\n",
      " 8   Total Stats  18979 non-null  int64 \n",
      " 9   Base Stats   18979 non-null  int64 \n",
      " 10  Wage         18979 non-null  object\n",
      " 11  Hits         18979 non-null  object\n",
      "dtypes: int64(4), object(8)\n",
      "memory usage: 1.7+ MB\n"
     ]
    }
   ],
   "source": [
    "df.info()"
   ]
  },
  {
   "cell_type": "code",
   "execution_count": 8,
   "id": "0d04c27a-5e0f-417f-9776-312234e32bcb",
   "metadata": {},
   "outputs": [
    {
     "data": {
      "text/plain": [
       "['5', '7\"']"
      ]
     },
     "execution_count": 8,
     "metadata": {},
     "output_type": "execute_result"
    }
   ],
   "source": [
    "df['Height'][0].split('\\'')"
   ]
  },
  {
   "cell_type": "code",
   "execution_count": 9,
   "id": "ab66212c-32d4-4959-9841-884c193565b2",
   "metadata": {},
   "outputs": [],
   "source": [
    "for val in df.Height:\n",
    "    df['Height_meters']=int(val[0])*0.3048+int(val[2])*0.0254"
   ]
  },
  {
   "cell_type": "code",
   "execution_count": 10,
   "id": "01c006de-db1e-4df2-ae6b-d234fe78b3cf",
   "metadata": {},
   "outputs": [
    {
     "data": {
      "text/plain": [
       "Height\n",
       "6'0\"     2859\n",
       "5'10\"    2654\n",
       "5'9\"     2304\n",
       "5'11\"    2188\n",
       "6'2\"     2108\n",
       "6'1\"     2001\n",
       "5'8\"     1069\n",
       "6'3\"     1049\n",
       "5'7\"      953\n",
       "6'4\"      797\n",
       "5'6\"      332\n",
       "6'5\"      280\n",
       "5'5\"      188\n",
       "6'6\"      116\n",
       "5'4\"       33\n",
       "6'7\"       20\n",
       "5'3\"       15\n",
       "6'8\"        6\n",
       "5'2\"        4\n",
       "5'1\"        2\n",
       "6'9\"        1\n",
       "Name: count, dtype: int64"
      ]
     },
     "execution_count": 10,
     "metadata": {},
     "output_type": "execute_result"
    }
   ],
   "source": [
    "df.Height.value_counts()"
   ]
  },
  {
   "cell_type": "code",
   "execution_count": 11,
   "id": "85b2eb5d-7e4f-4197-8b6a-5adb460ad8a2",
   "metadata": {},
   "outputs": [],
   "source": [
    "df['Height']=df.Height_meters\n",
    "df.drop(columns=['Height_meters'],inplace=True)"
   ]
  },
  {
   "cell_type": "code",
   "execution_count": 12,
   "id": "97b01910-f8ad-4e97-a567-4866c7ac6c2c",
   "metadata": {},
   "outputs": [
    {
     "data": {
      "text/html": [
       "<div>\n",
       "<style scoped>\n",
       "    .dataframe tbody tr th:only-of-type {\n",
       "        vertical-align: middle;\n",
       "    }\n",
       "\n",
       "    .dataframe tbody tr th {\n",
       "        vertical-align: top;\n",
       "    }\n",
       "\n",
       "    .dataframe thead th {\n",
       "        text-align: right;\n",
       "    }\n",
       "</style>\n",
       "<table border=\"1\" class=\"dataframe\">\n",
       "  <thead>\n",
       "    <tr style=\"text-align: right;\">\n",
       "      <th></th>\n",
       "      <th>Nationality</th>\n",
       "      <th>Positions</th>\n",
       "      <th>Name</th>\n",
       "      <th>Age</th>\n",
       "      <th>ID</th>\n",
       "      <th>Height</th>\n",
       "      <th>Weight</th>\n",
       "      <th>foot</th>\n",
       "      <th>Total Stats</th>\n",
       "      <th>Base Stats</th>\n",
       "      <th>Wage</th>\n",
       "      <th>Hits</th>\n",
       "    </tr>\n",
       "  </thead>\n",
       "  <tbody>\n",
       "    <tr>\n",
       "      <th>0</th>\n",
       "      <td>Argentina</td>\n",
       "      <td>RW ST CF</td>\n",
       "      <td>L. Messi</td>\n",
       "      <td>33</td>\n",
       "      <td>158023</td>\n",
       "      <td>1.7526</td>\n",
       "      <td>159lbs</td>\n",
       "      <td>Left</td>\n",
       "      <td>2231</td>\n",
       "      <td>466</td>\n",
       "      <td>€560K</td>\n",
       "      <td>\\n372</td>\n",
       "    </tr>\n",
       "    <tr>\n",
       "      <th>1</th>\n",
       "      <td>Portugal</td>\n",
       "      <td>ST LW</td>\n",
       "      <td>Cristiano Ronaldo</td>\n",
       "      <td>35</td>\n",
       "      <td>20801</td>\n",
       "      <td>1.7526</td>\n",
       "      <td>183lbs</td>\n",
       "      <td>Right</td>\n",
       "      <td>2221</td>\n",
       "      <td>464</td>\n",
       "      <td>€220K</td>\n",
       "      <td>\\n344</td>\n",
       "    </tr>\n",
       "    <tr>\n",
       "      <th>2</th>\n",
       "      <td>Slovenia</td>\n",
       "      <td>GK</td>\n",
       "      <td>J. Oblak</td>\n",
       "      <td>27</td>\n",
       "      <td>200389</td>\n",
       "      <td>1.7526</td>\n",
       "      <td>192lbs</td>\n",
       "      <td>Right</td>\n",
       "      <td>1413</td>\n",
       "      <td>489</td>\n",
       "      <td>€125K</td>\n",
       "      <td>\\n86</td>\n",
       "    </tr>\n",
       "    <tr>\n",
       "      <th>3</th>\n",
       "      <td>Belgium</td>\n",
       "      <td>CAM CM</td>\n",
       "      <td>K. De Bruyne</td>\n",
       "      <td>29</td>\n",
       "      <td>192985</td>\n",
       "      <td>1.7526</td>\n",
       "      <td>154lbs</td>\n",
       "      <td>Right</td>\n",
       "      <td>2304</td>\n",
       "      <td>485</td>\n",
       "      <td>€370K</td>\n",
       "      <td>\\n163</td>\n",
       "    </tr>\n",
       "    <tr>\n",
       "      <th>4</th>\n",
       "      <td>Brazil</td>\n",
       "      <td>LW CAM</td>\n",
       "      <td>Neymar Jr</td>\n",
       "      <td>28</td>\n",
       "      <td>190871</td>\n",
       "      <td>1.7526</td>\n",
       "      <td>150lbs</td>\n",
       "      <td>Right</td>\n",
       "      <td>2175</td>\n",
       "      <td>451</td>\n",
       "      <td>€270K</td>\n",
       "      <td>\\n273</td>\n",
       "    </tr>\n",
       "  </tbody>\n",
       "</table>\n",
       "</div>"
      ],
      "text/plain": [
       "  Nationality Positions               Name  Age      ID  Height  Weight  \\\n",
       "0   Argentina  RW ST CF           L. Messi   33  158023  1.7526  159lbs   \n",
       "1    Portugal     ST LW  Cristiano Ronaldo   35   20801  1.7526  183lbs   \n",
       "2    Slovenia        GK           J. Oblak   27  200389  1.7526  192lbs   \n",
       "3     Belgium    CAM CM       K. De Bruyne   29  192985  1.7526  154lbs   \n",
       "4      Brazil    LW CAM          Neymar Jr   28  190871  1.7526  150lbs   \n",
       "\n",
       "    foot  Total Stats  Base Stats   Wage   Hits  \n",
       "0   Left         2231         466  €560K  \\n372  \n",
       "1  Right         2221         464  €220K  \\n344  \n",
       "2  Right         1413         489  €125K   \\n86  \n",
       "3  Right         2304         485  €370K  \\n163  \n",
       "4  Right         2175         451  €270K  \\n273  "
      ]
     },
     "execution_count": 12,
     "metadata": {},
     "output_type": "execute_result"
    }
   ],
   "source": [
    "df.head()"
   ]
  },
  {
   "cell_type": "code",
   "execution_count": 13,
   "id": "a262f0e3-67aa-4927-bb71-c8c8996a94cf",
   "metadata": {},
   "outputs": [
    {
     "data": {
      "text/plain": [
       "'159'"
      ]
     },
     "execution_count": 13,
     "metadata": {},
     "output_type": "execute_result"
    }
   ],
   "source": [
    "df.Weight[0].split('lbs')[0]"
   ]
  },
  {
   "cell_type": "code",
   "execution_count": 14,
   "id": "8693330e-3b77-4ec5-beab-40ca202e6e27",
   "metadata": {},
   "outputs": [],
   "source": [
    "for val in df['Weight']:\n",
    "    lst=val.split('lbs')\n",
    "    df['Weight_kg']=int(lst[0])*0.453592"
   ]
  },
  {
   "cell_type": "code",
   "execution_count": 15,
   "id": "9a6f5fd3-3c4b-4c04-8137-3dba03665f9d",
   "metadata": {},
   "outputs": [],
   "source": [
    "df['Weight']=df['Weight_kg']\n",
    "df.drop(columns=['Weight_kg'],inplace=True)"
   ]
  },
  {
   "cell_type": "code",
   "execution_count": 16,
   "id": "5b34efd0-96c6-495e-9441-acc7ad0abdee",
   "metadata": {},
   "outputs": [
    {
     "data": {
      "text/html": [
       "<div>\n",
       "<style scoped>\n",
       "    .dataframe tbody tr th:only-of-type {\n",
       "        vertical-align: middle;\n",
       "    }\n",
       "\n",
       "    .dataframe tbody tr th {\n",
       "        vertical-align: top;\n",
       "    }\n",
       "\n",
       "    .dataframe thead th {\n",
       "        text-align: right;\n",
       "    }\n",
       "</style>\n",
       "<table border=\"1\" class=\"dataframe\">\n",
       "  <thead>\n",
       "    <tr style=\"text-align: right;\">\n",
       "      <th></th>\n",
       "      <th>Nationality</th>\n",
       "      <th>Positions</th>\n",
       "      <th>Name</th>\n",
       "      <th>Age</th>\n",
       "      <th>ID</th>\n",
       "      <th>Height</th>\n",
       "      <th>Weight</th>\n",
       "      <th>foot</th>\n",
       "      <th>Total Stats</th>\n",
       "      <th>Base Stats</th>\n",
       "      <th>Wage</th>\n",
       "      <th>Hits</th>\n",
       "    </tr>\n",
       "  </thead>\n",
       "  <tbody>\n",
       "    <tr>\n",
       "      <th>0</th>\n",
       "      <td>Argentina</td>\n",
       "      <td>RW ST CF</td>\n",
       "      <td>L. Messi</td>\n",
       "      <td>33</td>\n",
       "      <td>158023</td>\n",
       "      <td>1.7526</td>\n",
       "      <td>68.0388</td>\n",
       "      <td>Left</td>\n",
       "      <td>2231</td>\n",
       "      <td>466</td>\n",
       "      <td>€560K</td>\n",
       "      <td>\\n372</td>\n",
       "    </tr>\n",
       "    <tr>\n",
       "      <th>1</th>\n",
       "      <td>Portugal</td>\n",
       "      <td>ST LW</td>\n",
       "      <td>Cristiano Ronaldo</td>\n",
       "      <td>35</td>\n",
       "      <td>20801</td>\n",
       "      <td>1.7526</td>\n",
       "      <td>68.0388</td>\n",
       "      <td>Right</td>\n",
       "      <td>2221</td>\n",
       "      <td>464</td>\n",
       "      <td>€220K</td>\n",
       "      <td>\\n344</td>\n",
       "    </tr>\n",
       "    <tr>\n",
       "      <th>2</th>\n",
       "      <td>Slovenia</td>\n",
       "      <td>GK</td>\n",
       "      <td>J. Oblak</td>\n",
       "      <td>27</td>\n",
       "      <td>200389</td>\n",
       "      <td>1.7526</td>\n",
       "      <td>68.0388</td>\n",
       "      <td>Right</td>\n",
       "      <td>1413</td>\n",
       "      <td>489</td>\n",
       "      <td>€125K</td>\n",
       "      <td>\\n86</td>\n",
       "    </tr>\n",
       "    <tr>\n",
       "      <th>3</th>\n",
       "      <td>Belgium</td>\n",
       "      <td>CAM CM</td>\n",
       "      <td>K. De Bruyne</td>\n",
       "      <td>29</td>\n",
       "      <td>192985</td>\n",
       "      <td>1.7526</td>\n",
       "      <td>68.0388</td>\n",
       "      <td>Right</td>\n",
       "      <td>2304</td>\n",
       "      <td>485</td>\n",
       "      <td>€370K</td>\n",
       "      <td>\\n163</td>\n",
       "    </tr>\n",
       "    <tr>\n",
       "      <th>4</th>\n",
       "      <td>Brazil</td>\n",
       "      <td>LW CAM</td>\n",
       "      <td>Neymar Jr</td>\n",
       "      <td>28</td>\n",
       "      <td>190871</td>\n",
       "      <td>1.7526</td>\n",
       "      <td>68.0388</td>\n",
       "      <td>Right</td>\n",
       "      <td>2175</td>\n",
       "      <td>451</td>\n",
       "      <td>€270K</td>\n",
       "      <td>\\n273</td>\n",
       "    </tr>\n",
       "  </tbody>\n",
       "</table>\n",
       "</div>"
      ],
      "text/plain": [
       "  Nationality Positions               Name  Age      ID  Height   Weight  \\\n",
       "0   Argentina  RW ST CF           L. Messi   33  158023  1.7526  68.0388   \n",
       "1    Portugal     ST LW  Cristiano Ronaldo   35   20801  1.7526  68.0388   \n",
       "2    Slovenia        GK           J. Oblak   27  200389  1.7526  68.0388   \n",
       "3     Belgium    CAM CM       K. De Bruyne   29  192985  1.7526  68.0388   \n",
       "4      Brazil    LW CAM          Neymar Jr   28  190871  1.7526  68.0388   \n",
       "\n",
       "    foot  Total Stats  Base Stats   Wage   Hits  \n",
       "0   Left         2231         466  €560K  \\n372  \n",
       "1  Right         2221         464  €220K  \\n344  \n",
       "2  Right         1413         489  €125K   \\n86  \n",
       "3  Right         2304         485  €370K  \\n163  \n",
       "4  Right         2175         451  €270K  \\n273  "
      ]
     },
     "execution_count": 16,
     "metadata": {},
     "output_type": "execute_result"
    }
   ],
   "source": [
    "df.head()"
   ]
  },
  {
   "cell_type": "code",
   "execution_count": 17,
   "id": "12df186f-23e9-4363-b515-15aef97491cc",
   "metadata": {},
   "outputs": [
    {
     "data": {
      "text/plain": [
       "'560'"
      ]
     },
     "execution_count": 17,
     "metadata": {},
     "output_type": "execute_result"
    }
   ],
   "source": [
    "df.Wage[0].split('€')[1].split('K')[0]\n"
   ]
  },
  {
   "cell_type": "code",
   "execution_count": 18,
   "id": "4c56f56e-e59b-46d4-8c4d-597f8a14bef1",
   "metadata": {},
   "outputs": [],
   "source": [
    "for val in df['Wage']:\n",
    "    value=val.split('€')[1].split('K')[0]\n",
    "    df['Wage']='$'+str(int(value)*1.09575)+'K'"
   ]
  },
  {
   "cell_type": "code",
   "execution_count": 19,
   "id": "aed6fb0b-562d-4565-aa57-712bf82bed89",
   "metadata": {},
   "outputs": [
    {
     "data": {
      "text/html": [
       "<div>\n",
       "<style scoped>\n",
       "    .dataframe tbody tr th:only-of-type {\n",
       "        vertical-align: middle;\n",
       "    }\n",
       "\n",
       "    .dataframe tbody tr th {\n",
       "        vertical-align: top;\n",
       "    }\n",
       "\n",
       "    .dataframe thead th {\n",
       "        text-align: right;\n",
       "    }\n",
       "</style>\n",
       "<table border=\"1\" class=\"dataframe\">\n",
       "  <thead>\n",
       "    <tr style=\"text-align: right;\">\n",
       "      <th></th>\n",
       "      <th>Nationality</th>\n",
       "      <th>Positions</th>\n",
       "      <th>Name</th>\n",
       "      <th>Age</th>\n",
       "      <th>ID</th>\n",
       "      <th>Height</th>\n",
       "      <th>Weight</th>\n",
       "      <th>foot</th>\n",
       "      <th>Total Stats</th>\n",
       "      <th>Base Stats</th>\n",
       "      <th>Wage</th>\n",
       "      <th>Hits</th>\n",
       "    </tr>\n",
       "  </thead>\n",
       "  <tbody>\n",
       "    <tr>\n",
       "      <th>0</th>\n",
       "      <td>Argentina</td>\n",
       "      <td>RW ST CF</td>\n",
       "      <td>L. Messi</td>\n",
       "      <td>33</td>\n",
       "      <td>158023</td>\n",
       "      <td>1.7526</td>\n",
       "      <td>68.0388</td>\n",
       "      <td>Left</td>\n",
       "      <td>2231</td>\n",
       "      <td>466</td>\n",
       "      <td>$547.875K</td>\n",
       "      <td>\\n372</td>\n",
       "    </tr>\n",
       "    <tr>\n",
       "      <th>1</th>\n",
       "      <td>Portugal</td>\n",
       "      <td>ST LW</td>\n",
       "      <td>Cristiano Ronaldo</td>\n",
       "      <td>35</td>\n",
       "      <td>20801</td>\n",
       "      <td>1.7526</td>\n",
       "      <td>68.0388</td>\n",
       "      <td>Right</td>\n",
       "      <td>2221</td>\n",
       "      <td>464</td>\n",
       "      <td>$547.875K</td>\n",
       "      <td>\\n344</td>\n",
       "    </tr>\n",
       "    <tr>\n",
       "      <th>2</th>\n",
       "      <td>Slovenia</td>\n",
       "      <td>GK</td>\n",
       "      <td>J. Oblak</td>\n",
       "      <td>27</td>\n",
       "      <td>200389</td>\n",
       "      <td>1.7526</td>\n",
       "      <td>68.0388</td>\n",
       "      <td>Right</td>\n",
       "      <td>1413</td>\n",
       "      <td>489</td>\n",
       "      <td>$547.875K</td>\n",
       "      <td>\\n86</td>\n",
       "    </tr>\n",
       "    <tr>\n",
       "      <th>3</th>\n",
       "      <td>Belgium</td>\n",
       "      <td>CAM CM</td>\n",
       "      <td>K. De Bruyne</td>\n",
       "      <td>29</td>\n",
       "      <td>192985</td>\n",
       "      <td>1.7526</td>\n",
       "      <td>68.0388</td>\n",
       "      <td>Right</td>\n",
       "      <td>2304</td>\n",
       "      <td>485</td>\n",
       "      <td>$547.875K</td>\n",
       "      <td>\\n163</td>\n",
       "    </tr>\n",
       "    <tr>\n",
       "      <th>4</th>\n",
       "      <td>Brazil</td>\n",
       "      <td>LW CAM</td>\n",
       "      <td>Neymar Jr</td>\n",
       "      <td>28</td>\n",
       "      <td>190871</td>\n",
       "      <td>1.7526</td>\n",
       "      <td>68.0388</td>\n",
       "      <td>Right</td>\n",
       "      <td>2175</td>\n",
       "      <td>451</td>\n",
       "      <td>$547.875K</td>\n",
       "      <td>\\n273</td>\n",
       "    </tr>\n",
       "  </tbody>\n",
       "</table>\n",
       "</div>"
      ],
      "text/plain": [
       "  Nationality Positions               Name  Age      ID  Height   Weight  \\\n",
       "0   Argentina  RW ST CF           L. Messi   33  158023  1.7526  68.0388   \n",
       "1    Portugal     ST LW  Cristiano Ronaldo   35   20801  1.7526  68.0388   \n",
       "2    Slovenia        GK           J. Oblak   27  200389  1.7526  68.0388   \n",
       "3     Belgium    CAM CM       K. De Bruyne   29  192985  1.7526  68.0388   \n",
       "4      Brazil    LW CAM          Neymar Jr   28  190871  1.7526  68.0388   \n",
       "\n",
       "    foot  Total Stats  Base Stats       Wage   Hits  \n",
       "0   Left         2231         466  $547.875K  \\n372  \n",
       "1  Right         2221         464  $547.875K  \\n344  \n",
       "2  Right         1413         489  $547.875K   \\n86  \n",
       "3  Right         2304         485  $547.875K  \\n163  \n",
       "4  Right         2175         451  $547.875K  \\n273  "
      ]
     },
     "execution_count": 19,
     "metadata": {},
     "output_type": "execute_result"
    }
   ],
   "source": [
    "df.head()"
   ]
  },
  {
   "cell_type": "markdown",
   "id": "1524f22e-40b4-40e5-9cea-da2f87d4aa28",
   "metadata": {},
   "source": [
    "### Applying Some Statistics on Data Of Height,Weight"
   ]
  },
  {
   "cell_type": "markdown",
   "id": "0985495c-9836-4ef2-9d5c-8e3321e66f10",
   "metadata": {},
   "source": [
    "### 1. Height\n"
   ]
  },
  {
   "cell_type": "markdown",
   "id": "b414dd25-96db-437f-af05-eb157141e7c0",
   "metadata": {},
   "source": [
    "You had given Population mean , std and sample of 30 and it mean . u have to check whether it is same or different"
   ]
  },
  {
   "cell_type": "markdown",
   "id": "0dd27370-7e68-4712-9c0d-7255045390ba",
   "metadata": {},
   "source": [
    "=> Given: meu,sigma,n\n",
    "1. NUll Hyphothesis (Ho): mue is same\n",
    "2. Alternate Hyphothesis (Ho): mue is not same\n",
    "3. significance value(aplha): 0.05"
   ]
  },
  {
   "cell_type": "code",
   "execution_count": 21,
   "id": "acefe004-d122-4f46-8c8d-f31b6dfa9e21",
   "metadata": {},
   "outputs": [
    {
     "data": {
      "text/plain": [
       "np.float64(1.7526000000000004)"
      ]
     },
     "execution_count": 21,
     "metadata": {},
     "output_type": "execute_result"
    }
   ],
   "source": [
    "mean=df.Height.mean()\n",
    "mean"
   ]
  },
  {
   "cell_type": "code",
   "execution_count": 30,
   "id": "25e6172e-fd46-4582-911c-a861d4d3687e",
   "metadata": {
    "collapsed": true,
    "jupyter": {
     "outputs_hidden": true
    }
   },
   "outputs": [
    {
     "data": {
      "text/plain": [
       "3336     1.7526\n",
       "3679     1.7526\n",
       "18103    1.7526\n",
       "5131     1.7526\n",
       "10555    1.7526\n",
       "16160    1.7526\n",
       "11207    1.7526\n",
       "6648     1.7526\n",
       "11411    1.7526\n",
       "5934     1.7526\n",
       "16970    1.7526\n",
       "8327     1.7526\n",
       "7529     1.7526\n",
       "18156    1.7526\n",
       "6278     1.7526\n",
       "7763     1.7526\n",
       "13415    1.7526\n",
       "5632     1.7526\n",
       "5607     1.7526\n",
       "5815     1.7526\n",
       "11358    1.7526\n",
       "11295    1.7526\n",
       "3148     1.7526\n",
       "10671    1.7526\n",
       "5187     1.7526\n",
       "16808    1.7526\n",
       "16044    1.7526\n",
       "9788     1.7526\n",
       "16450    1.7526\n",
       "17415    1.7526\n",
       "Name: Height, dtype: float64"
      ]
     },
     "execution_count": 30,
     "metadata": {},
     "output_type": "execute_result"
    }
   ],
   "source": [
    "import random\n",
    "sample=df.Height.sample(n=30,random_state=0)\n",
    "sample"
   ]
  },
  {
   "cell_type": "code",
   "execution_count": 31,
   "id": "f5d6ebf5-ba84-40c2-81e6-beff74239745",
   "metadata": {},
   "outputs": [],
   "source": [
    "sigma=df.Height.std()\n",
    "sample_mean=sample.mean()\n",
    "n=30"
   ]
  },
  {
   "cell_type": "code",
   "execution_count": 32,
   "id": "6543e14c-9807-42be-9b01-ee99c8d54368",
   "metadata": {},
   "outputs": [],
   "source": [
    "from statsmodels.stats.weightstats import ztest as ztest"
   ]
  },
  {
   "cell_type": "code",
   "execution_count": 35,
   "id": "4be1e1f4-f146-437a-880f-ac5f0cc60884",
   "metadata": {},
   "outputs": [],
   "source": [
    "z_score,p_value=ztest(sample,value=sample_mean)"
   ]
  },
  {
   "cell_type": "code",
   "execution_count": 36,
   "id": "70f0a7de-334e-4e50-ac0e-0f3e94028d93",
   "metadata": {},
   "outputs": [
    {
     "data": {
      "text/plain": [
       "np.float64(0.0)"
      ]
     },
     "execution_count": 36,
     "metadata": {},
     "output_type": "execute_result"
    }
   ],
   "source": [
    "z_score"
   ]
  },
  {
   "cell_type": "code",
   "execution_count": 37,
   "id": "cfa1c516-0b8d-416f-b33a-bd326b9c3194",
   "metadata": {},
   "outputs": [
    {
     "data": {
      "text/plain": [
       "np.float64(1.0)"
      ]
     },
     "execution_count": 37,
     "metadata": {},
     "output_type": "execute_result"
    }
   ],
   "source": [
    "p_value"
   ]
  },
  {
   "cell_type": "code",
   "execution_count": 38,
   "id": "e18ba5ca-dfb5-440a-a5e6-30c3c9b3ff77",
   "metadata": {},
   "outputs": [
    {
     "data": {
      "text/plain": [
       "np.float64(1.7526000000000002)"
      ]
     },
     "execution_count": 38,
     "metadata": {},
     "output_type": "execute_result"
    }
   ],
   "source": [
    "sample_mean"
   ]
  },
  {
   "cell_type": "markdown",
   "id": "757b05bd-50d1-40e9-ae1c-335dd2f5e8ee",
   "metadata": {},
   "source": [
    "p_value>alpha(significance value) -> we fail to reject the null hypothesis i.e accept null hyphothesis\n"
   ]
  },
  {
   "cell_type": "code",
   "execution_count": null,
   "id": "f0d9b493-dd02-46f0-97ef-2c660605c201",
   "metadata": {},
   "outputs": [],
   "source": []
  }
 ],
 "metadata": {
  "kernelspec": {
   "display_name": "Python 3 (ipykernel)",
   "language": "python",
   "name": "python3"
  },
  "language_info": {
   "codemirror_mode": {
    "name": "ipython",
    "version": 3
   },
   "file_extension": ".py",
   "mimetype": "text/x-python",
   "name": "python",
   "nbconvert_exporter": "python",
   "pygments_lexer": "ipython3",
   "version": "3.12.5"
  }
 },
 "nbformat": 4,
 "nbformat_minor": 5
}
