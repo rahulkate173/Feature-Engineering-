{
 "cells": [
  {
   "cell_type": "code",
   "execution_count": 1,
   "id": "bce1eed8-ec55-4fdf-9b73-af37a5c418db",
   "metadata": {},
   "outputs": [],
   "source": [
    "import pandas as pd\n",
    "import numpy as np"
   ]
  },
  {
   "cell_type": "markdown",
   "id": "a0c652d5-77a9-44b0-8489-58ebc8ddd291",
   "metadata": {},
   "source": [
    "#### 1. One Hot Encoding(OHE)"
   ]
  },
  {
   "cell_type": "code",
   "execution_count": 5,
   "id": "128362bd-f359-4ebb-a2f2-1ebebb5ae96a",
   "metadata": {},
   "outputs": [
    {
     "data": {
      "text/html": [
       "<div>\n",
       "<style scoped>\n",
       "    .dataframe tbody tr th:only-of-type {\n",
       "        vertical-align: middle;\n",
       "    }\n",
       "\n",
       "    .dataframe tbody tr th {\n",
       "        vertical-align: top;\n",
       "    }\n",
       "\n",
       "    .dataframe thead th {\n",
       "        text-align: right;\n",
       "    }\n",
       "</style>\n",
       "<table border=\"1\" class=\"dataframe\">\n",
       "  <thead>\n",
       "    <tr style=\"text-align: right;\">\n",
       "      <th></th>\n",
       "      <th>Color_Blue</th>\n",
       "      <th>Color_Green</th>\n",
       "      <th>Color_Red</th>\n",
       "    </tr>\n",
       "  </thead>\n",
       "  <tbody>\n",
       "    <tr>\n",
       "      <th>0</th>\n",
       "      <td>0</td>\n",
       "      <td>0</td>\n",
       "      <td>1</td>\n",
       "    </tr>\n",
       "    <tr>\n",
       "      <th>1</th>\n",
       "      <td>1</td>\n",
       "      <td>0</td>\n",
       "      <td>0</td>\n",
       "    </tr>\n",
       "    <tr>\n",
       "      <th>2</th>\n",
       "      <td>0</td>\n",
       "      <td>1</td>\n",
       "      <td>0</td>\n",
       "    </tr>\n",
       "    <tr>\n",
       "      <th>3</th>\n",
       "      <td>0</td>\n",
       "      <td>0</td>\n",
       "      <td>1</td>\n",
       "    </tr>\n",
       "    <tr>\n",
       "      <th>4</th>\n",
       "      <td>1</td>\n",
       "      <td>0</td>\n",
       "      <td>0</td>\n",
       "    </tr>\n",
       "  </tbody>\n",
       "</table>\n",
       "</div>"
      ],
      "text/plain": [
       "   Color_Blue  Color_Green  Color_Red\n",
       "0           0            0          1\n",
       "1           1            0          0\n",
       "2           0            1          0\n",
       "3           0            0          1\n",
       "4           1            0          0"
      ]
     },
     "execution_count": 5,
     "metadata": {},
     "output_type": "execute_result"
    }
   ],
   "source": [
    "df = pd.DataFrame({'Color': ['Red', 'Blue', 'Green', 'Red', 'Blue']},dtype='category')\n",
    "pd.get_dummies(df,columns=None,dtype='int8',drop_first=False)"
   ]
  },
  {
   "cell_type": "code",
   "execution_count": 6,
   "id": "52be3214-beb4-402a-ac58-19e3519ee5d4",
   "metadata": {},
   "outputs": [
    {
     "data": {
      "text/html": [
       "<div>\n",
       "<style scoped>\n",
       "    .dataframe tbody tr th:only-of-type {\n",
       "        vertical-align: middle;\n",
       "    }\n",
       "\n",
       "    .dataframe tbody tr th {\n",
       "        vertical-align: top;\n",
       "    }\n",
       "\n",
       "    .dataframe thead th {\n",
       "        text-align: right;\n",
       "    }\n",
       "</style>\n",
       "<table border=\"1\" class=\"dataframe\">\n",
       "  <thead>\n",
       "    <tr style=\"text-align: right;\">\n",
       "      <th></th>\n",
       "      <th>Color</th>\n",
       "    </tr>\n",
       "  </thead>\n",
       "  <tbody>\n",
       "    <tr>\n",
       "      <th>0</th>\n",
       "      <td>Red</td>\n",
       "    </tr>\n",
       "    <tr>\n",
       "      <th>1</th>\n",
       "      <td>Blue</td>\n",
       "    </tr>\n",
       "    <tr>\n",
       "      <th>2</th>\n",
       "      <td>Green</td>\n",
       "    </tr>\n",
       "    <tr>\n",
       "      <th>3</th>\n",
       "      <td>Red</td>\n",
       "    </tr>\n",
       "    <tr>\n",
       "      <th>4</th>\n",
       "      <td>Blue</td>\n",
       "    </tr>\n",
       "  </tbody>\n",
       "</table>\n",
       "</div>"
      ],
      "text/plain": [
       "   Color\n",
       "0    Red\n",
       "1   Blue\n",
       "2  Green\n",
       "3    Red\n",
       "4   Blue"
      ]
     },
     "execution_count": 6,
     "metadata": {},
     "output_type": "execute_result"
    }
   ],
   "source": [
    "df"
   ]
  },
  {
   "cell_type": "markdown",
   "id": "c64061cc-2208-4fb5-8a70-631f204d92d2",
   "metadata": {},
   "source": [
    "#### 2. pd.cut()\n"
   ]
  },
  {
   "cell_type": "code",
   "execution_count": 8,
   "id": "417e03d9-2a24-42dd-9c36-03161bc9ba8b",
   "metadata": {},
   "outputs": [
    {
     "data": {
      "text/plain": [
       "0    Young\n",
       "1    Adult\n",
       "2      Old\n",
       "3    Death\n",
       "4      God\n",
       "Name: Age, dtype: category\n",
       "Categories (5, object): ['Young' < 'Adult' < 'Old' < 'Death' < 'God']"
      ]
     },
     "execution_count": 8,
     "metadata": {},
     "output_type": "execute_result"
    }
   ],
   "source": [
    "df = pd.DataFrame({'Age': [10, 25, 40, 55, 70]})\n",
    "pd.cut(df['Age'],bins=5,labels=['Young','Adult','Old','Death','God'])"
   ]
  },
  {
   "cell_type": "code",
   "execution_count": 9,
   "id": "506faf5d-19ef-4e94-84bb-c2e21945edab",
   "metadata": {},
   "outputs": [
    {
     "data": {
      "text/plain": [
       "0    (9.94, 22.0]\n",
       "1    (22.0, 34.0]\n",
       "2    (34.0, 46.0]\n",
       "3    (46.0, 58.0]\n",
       "4    (58.0, 70.0]\n",
       "Name: Age, dtype: category\n",
       "Categories (5, interval[float64, right]): [(9.94, 22.0] < (22.0, 34.0] < (34.0, 46.0] < (46.0, 58.0] < (58.0, 70.0]]"
      ]
     },
     "execution_count": 9,
     "metadata": {},
     "output_type": "execute_result"
    }
   ],
   "source": [
    "pd.cut(df['Age'],bins=5)"
   ]
  },
  {
   "cell_type": "code",
   "execution_count": 11,
   "id": "38304d24-cd10-4c53-8f98-3a1ee94d02af",
   "metadata": {},
   "outputs": [
    {
     "data": {
      "text/plain": [
       "0     [10.0, 22.0)\n",
       "1     [22.0, 34.0)\n",
       "2     [34.0, 46.0)\n",
       "3     [46.0, 58.0)\n",
       "4    [58.0, 70.06)\n",
       "Name: Age, dtype: category\n",
       "Categories (5, interval[float64, left]): [[10.0, 22.0) < [22.0, 34.0) < [34.0, 46.0) < [46.0, 58.0) < [58.0, 70.06)]"
      ]
     },
     "execution_count": 11,
     "metadata": {},
     "output_type": "execute_result"
    }
   ],
   "source": [
    "pd.cut(df['Age'],bins=5,right=False)"
   ]
  },
  {
   "cell_type": "code",
   "execution_count": 12,
   "id": "8c46bbd6-6b93-44cd-b73c-8c7a45bf648a",
   "metadata": {},
   "outputs": [
    {
     "data": {
      "text/plain": [
       "0    (9.94, 25.0]\n",
       "1    (9.94, 25.0]\n",
       "2    (25.0, 40.0]\n",
       "3    (40.0, 55.0]\n",
       "4    (55.0, 70.0]\n",
       "Name: Age, dtype: category\n",
       "Categories (4, interval[float64, right]): [(9.94, 25.0] < (25.0, 40.0] < (40.0, 55.0] < (55.0, 70.0]]"
      ]
     },
     "execution_count": 12,
     "metadata": {},
     "output_type": "execute_result"
    }
   ],
   "source": [
    "pd.cut(df['Age'],bins=4)"
   ]
  },
  {
   "cell_type": "code",
   "execution_count": 13,
   "id": "05ff55bc-3655-4b21-b2b1-0d34fb164290",
   "metadata": {},
   "outputs": [
    {
     "data": {
      "text/plain": [
       "0    (9.94, 30.0]\n",
       "1    (9.94, 30.0]\n",
       "2    (30.0, 50.0]\n",
       "3    (50.0, 70.0]\n",
       "4    (50.0, 70.0]\n",
       "Name: Age, dtype: category\n",
       "Categories (3, interval[float64, right]): [(9.94, 30.0] < (30.0, 50.0] < (50.0, 70.0]]"
      ]
     },
     "execution_count": 13,
     "metadata": {},
     "output_type": "execute_result"
    }
   ],
   "source": [
    "pd.cut(df['Age'],bins=3)"
   ]
  },
  {
   "cell_type": "code",
   "execution_count": 14,
   "id": "24eaebf2-68b1-4460-a88e-db84e1700d8f",
   "metadata": {},
   "outputs": [
    {
     "data": {
      "text/plain": [
       "0    (9.94, 40.0]\n",
       "1    (9.94, 40.0]\n",
       "2    (9.94, 40.0]\n",
       "3    (40.0, 70.0]\n",
       "4    (40.0, 70.0]\n",
       "Name: Age, dtype: category\n",
       "Categories (2, interval[float64, right]): [(9.94, 40.0] < (40.0, 70.0]]"
      ]
     },
     "execution_count": 14,
     "metadata": {},
     "output_type": "execute_result"
    }
   ],
   "source": [
    "pd.cut(df['Age'],bins=2)"
   ]
  },
  {
   "cell_type": "code",
   "execution_count": 15,
   "id": "abfadd2a-4738-4edd-928c-dcb385fee2d0",
   "metadata": {},
   "outputs": [
    {
     "data": {
      "text/plain": [
       "0    (9.94, 70.0]\n",
       "1    (9.94, 70.0]\n",
       "2    (9.94, 70.0]\n",
       "3    (9.94, 70.0]\n",
       "4    (9.94, 70.0]\n",
       "Name: Age, dtype: category\n",
       "Categories (1, interval[float64, right]): [(9.94, 70.0]]"
      ]
     },
     "execution_count": 15,
     "metadata": {},
     "output_type": "execute_result"
    }
   ],
   "source": [
    "pd.cut(df['Age'],bins=1)"
   ]
  },
  {
   "cell_type": "code",
   "execution_count": 16,
   "id": "5fd7cba2-3b0a-4400-aba4-40d120791249",
   "metadata": {},
   "outputs": [
    {
     "data": {
      "text/plain": [
       "0    (9.94, 15.0]\n",
       "1    (20.0, 25.0]\n",
       "2    (35.0, 40.0]\n",
       "3    (50.0, 55.0]\n",
       "4    (65.0, 70.0]\n",
       "Name: Age, dtype: category\n",
       "Categories (12, interval[float64, right]): [(9.94, 15.0] < (15.0, 20.0] < (20.0, 25.0] < (25.0, 30.0] ... (50.0, 55.0] < (55.0, 60.0] < (60.0, 65.0] < (65.0, 70.0]]"
      ]
     },
     "execution_count": 16,
     "metadata": {},
     "output_type": "execute_result"
    }
   ],
   "source": [
    "pd.cut(df['Age'],bins=12)"
   ]
  },
  {
   "cell_type": "code",
   "execution_count": 17,
   "id": "c89b8a01-c9ed-48d7-8a37-ae6645601aee",
   "metadata": {},
   "outputs": [
    {
     "data": {
      "text/plain": [
       "0    (9.94, 10.6]\n",
       "1    (24.4, 25.0]\n",
       "2    (39.4, 40.0]\n",
       "3    (54.4, 55.0]\n",
       "4    (69.4, 70.0]\n",
       "Name: Age, dtype: category\n",
       "Categories (100, interval[float64, right]): [(9.94, 10.6] < (10.6, 11.2] < (11.2, 11.8] < (11.8, 12.4] ... (67.6, 68.2] < (68.2, 68.8] < (68.8, 69.4] < (69.4, 70.0]]"
      ]
     },
     "execution_count": 17,
     "metadata": {},
     "output_type": "execute_result"
    }
   ],
   "source": [
    "pd.cut(df['Age'],bins=100)"
   ]
  },
  {
   "cell_type": "markdown",
   "id": "a2008996-6edb-4565-a5a4-6feda3ed06ff",
   "metadata": {},
   "source": [
    "#### 3. pd.qcut()"
   ]
  },
  {
   "cell_type": "code",
   "execution_count": 19,
   "id": "cba92710-15e0-49e9-93b7-41cbcde466b2",
   "metadata": {},
   "outputs": [
    {
     "data": {
      "text/plain": [
       "0    (9.999, 25.0]\n",
       "1    (9.999, 25.0]\n",
       "2     (25.0, 40.0]\n",
       "3     (40.0, 55.0]\n",
       "4     (55.0, 70.0]\n",
       "Name: Age, dtype: category\n",
       "Categories (4, interval[float64, right]): [(9.999, 25.0] < (25.0, 40.0] < (40.0, 55.0] < (55.0, 70.0]]"
      ]
     },
     "execution_count": 19,
     "metadata": {},
     "output_type": "execute_result"
    }
   ],
   "source": [
    "pd.qcut(df['Age'],4)"
   ]
  },
  {
   "cell_type": "code",
   "execution_count": 20,
   "id": "c53c9563-e26d-40b4-8036-34a632e5ccd5",
   "metadata": {},
   "outputs": [
    {
     "data": {
      "text/plain": [
       "0    (9.999, 70.0]\n",
       "1    (9.999, 70.0]\n",
       "2    (9.999, 70.0]\n",
       "3    (9.999, 70.0]\n",
       "4    (9.999, 70.0]\n",
       "Name: Age, dtype: category\n",
       "Categories (1, interval[float64, right]): [(9.999, 70.0]]"
      ]
     },
     "execution_count": 20,
     "metadata": {},
     "output_type": "execute_result"
    }
   ],
   "source": [
    "pd.qcut(df['Age'],1)"
   ]
  },
  {
   "cell_type": "code",
   "execution_count": 21,
   "id": "8ff95b66-bec2-4f56-9db2-9a104729d9f7",
   "metadata": {},
   "outputs": [
    {
     "data": {
      "text/plain": [
       "0    (9.999, 22.0]\n",
       "1     (22.0, 34.0]\n",
       "2     (34.0, 46.0]\n",
       "3     (46.0, 58.0]\n",
       "4     (58.0, 70.0]\n",
       "Name: Age, dtype: category\n",
       "Categories (5, interval[float64, right]): [(9.999, 22.0] < (22.0, 34.0] < (34.0, 46.0] < (46.0, 58.0] < (58.0, 70.0]]"
      ]
     },
     "execution_count": 21,
     "metadata": {},
     "output_type": "execute_result"
    }
   ],
   "source": [
    "pd.qcut(df['Age'],5)"
   ]
  },
  {
   "cell_type": "code",
   "execution_count": 22,
   "id": "5db3eb86-cff4-4e31-a3d7-cd17d12c697c",
   "metadata": {},
   "outputs": [
    {
     "data": {
      "text/html": [
       "<div>\n",
       "<style scoped>\n",
       "    .dataframe tbody tr th:only-of-type {\n",
       "        vertical-align: middle;\n",
       "    }\n",
       "\n",
       "    .dataframe tbody tr th {\n",
       "        vertical-align: top;\n",
       "    }\n",
       "\n",
       "    .dataframe thead th {\n",
       "        text-align: right;\n",
       "    }\n",
       "</style>\n",
       "<table border=\"1\" class=\"dataframe\">\n",
       "  <thead>\n",
       "    <tr style=\"text-align: right;\">\n",
       "      <th></th>\n",
       "      <th>Income</th>\n",
       "      <th>Income_Group</th>\n",
       "    </tr>\n",
       "  </thead>\n",
       "  <tbody>\n",
       "    <tr>\n",
       "      <th>0</th>\n",
       "      <td>20000</td>\n",
       "      <td>Low</td>\n",
       "    </tr>\n",
       "    <tr>\n",
       "      <th>1</th>\n",
       "      <td>50000</td>\n",
       "      <td>Low</td>\n",
       "    </tr>\n",
       "    <tr>\n",
       "      <th>2</th>\n",
       "      <td>80000</td>\n",
       "      <td>Medium</td>\n",
       "    </tr>\n",
       "    <tr>\n",
       "      <th>3</th>\n",
       "      <td>120000</td>\n",
       "      <td>High</td>\n",
       "    </tr>\n",
       "    <tr>\n",
       "      <th>4</th>\n",
       "      <td>150000</td>\n",
       "      <td>High</td>\n",
       "    </tr>\n",
       "  </tbody>\n",
       "</table>\n",
       "</div>"
      ],
      "text/plain": [
       "   Income Income_Group\n",
       "0   20000          Low\n",
       "1   50000          Low\n",
       "2   80000       Medium\n",
       "3  120000         High\n",
       "4  150000         High"
      ]
     },
     "execution_count": 22,
     "metadata": {},
     "output_type": "execute_result"
    }
   ],
   "source": [
    "df = pd.DataFrame({'Income': [20000, 50000, 80000, 120000, 150000]})\n",
    "df['Income_Group'] = pd.qcut(df['Income'], q=3, labels=['Low', 'Medium', 'High'])\n",
    "df"
   ]
  },
  {
   "cell_type": "code",
   "execution_count": null,
   "id": "95b41b2b-6ff6-4a75-9484-84fe3eb1185a",
   "metadata": {},
   "outputs": [],
   "source": []
  }
 ],
 "metadata": {
  "kernelspec": {
   "display_name": "Python 3 (ipykernel)",
   "language": "python",
   "name": "python3"
  },
  "language_info": {
   "codemirror_mode": {
    "name": "ipython",
    "version": 3
   },
   "file_extension": ".py",
   "mimetype": "text/x-python",
   "name": "python",
   "nbconvert_exporter": "python",
   "pygments_lexer": "ipython3",
   "version": "3.12.5"
  }
 },
 "nbformat": 4,
 "nbformat_minor": 5
}
